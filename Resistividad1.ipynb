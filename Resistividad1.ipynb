{
  "nbformat": 4,
  "nbformat_minor": 0,
  "metadata": {
    "colab": {
      "name": "Resistividad1",
      "provenance": [],
      "mount_file_id": "1FG_S2vYfRUHKeCy9jzZvqadnc_Rzjedz",
      "authorship_tag": "ABX9TyNuC1lePZyursRnlHLs4eKO",
      "include_colab_link": true
    },
    "kernelspec": {
      "name": "python3",
      "display_name": "Python 3"
    },
    "language_info": {
      "name": "python"
    }
  },
  "cells": [
    {
      "cell_type": "markdown",
      "metadata": {
        "id": "view-in-github",
        "colab_type": "text"
      },
      "source": [
        "<a href=\"https://colab.research.google.com/github/hrestrepom/hrestrepom/blob/main/Resistividad1.ipynb\" target=\"_parent\"><img src=\"https://colab.research.google.com/assets/colab-badge.svg\" alt=\"Open In Colab\"/></a>"
      ]
    },
    {
      "cell_type": "code",
      "execution_count": 2,
      "metadata": {
        "id": "QrKeV5i6Yol7"
      },
      "outputs": [],
      "source": [
        "### Este script busca facilitar el procesamiento de los datos de entrada de Optigrounding\n",
        "import pandas as pd \n",
        "import numpy as np\n",
        "import matplotlib.pyplot as plt\n",
        "\n",
        "\n"
      ]
    },
    {
      "cell_type": "code",
      "source": [
        "## Lectura de datos cargados desde un archivo Excel \n",
        "datosRo = pd.File(D:\\ISA Hernan\\Proyectos\\2021\\OPTIGROUNDING-V2\\PLANTILLAS\\Prueba1-Python.xlsx)"
      ],
      "metadata": {
        "id": "IRw-FTOdZJeo"
      },
      "execution_count": null,
      "outputs": []
    },
    {
      "cell_type": "code",
      "source": [
        "from google.colab import drive\n",
        "drive.mount('/content/drive')"
      ],
      "metadata": {
        "id": "UrsxjgtNbFEl"
      },
      "execution_count": null,
      "outputs": []
    }
  ]
}